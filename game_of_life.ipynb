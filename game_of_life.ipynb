{
  "nbformat": 4,
  "nbformat_minor": 0,
  "metadata": {
    "colab": {
      "name": "game_of_life.ipynb",
      "provenance": [],
      "collapsed_sections": [],
      "authorship_tag": "ABX9TyNvz3Q4Hbra7huTcF+sVeNw",
      "include_colab_link": true
    },
    "kernelspec": {
      "name": "python3",
      "display_name": "Python 3"
    },
    "accelerator": "GPU"
  },
  "cells": [
    {
      "cell_type": "markdown",
      "metadata": {
        "id": "view-in-github",
        "colab_type": "text"
      },
      "source": [
        "<a href=\"https://colab.research.google.com/github/Seifollahi/game_of_life/blob/master/game_of_life.ipynb\" target=\"_parent\"><img src=\"https://colab.research.google.com/assets/colab-badge.svg\" alt=\"Open In Colab\"/></a>"
      ]
    },
    {
      "cell_type": "code",
      "metadata": {
        "id": "Z5CJXXDHPoAC",
        "colab_type": "code",
        "colab": {}
      },
      "source": [
        "import random\n",
        "from IPython.display import clear_output, display\n",
        "import time\n",
        "import numpy\n",
        "from numpy import random\n",
        "\n",
        "\n",
        "N = 15\n",
        "w=int(N)\n",
        "h=int(N)\n",
        "old_world = numpy.zeros(N*N, dtype='i').reshape(N,N)\n",
        "new_world = numpy.zeros(N*N, dtype='i').reshape(N,N)"
      ],
      "execution_count": 0,
      "outputs": []
    },
    {
      "cell_type": "code",
      "metadata": {
        "id": "8KXAKpSyQgqv",
        "colab_type": "code",
        "colab": {}
      },
      "source": [
        "\n",
        "\n",
        "def rand(world, w, h):\n",
        "  random.seed(3)\n",
        "  world = [[random.random() for i in range(w)] for j in range(h)]    # print(world[y][x])\n",
        "\n",
        "  for y in range(h):\n",
        "  \n",
        "    for x in range(w):\n",
        "    \n",
        "    # print(x,y)\n",
        "      if world[x][y]<0.12:\n",
        "        world[x][y] =1\n",
        "      else:\n",
        "        world[x][y] =0\n",
        "\n",
        "  return world\n",
        "# print(world)"
      ],
      "execution_count": 0,
      "outputs": []
    },
    {
      "cell_type": "code",
      "metadata": {
        "id": "7_O4IFaRmGp1",
        "colab_type": "code",
        "colab": {}
      },
      "source": [
        "old_world = rand(old_world, w, h)\n",
        "new_world= rand(new_world,w,h)"
      ],
      "execution_count": 0,
      "outputs": []
    },
    {
      "cell_type": "code",
      "metadata": {
        "id": "YOsS-dtKxV_I",
        "colab_type": "code",
        "colab": {}
      },
      "source": [
        "# old_world"
      ],
      "execution_count": 0,
      "outputs": []
    },
    {
      "cell_type": "code",
      "metadata": {
        "id": "GzpZiZc_lNbs",
        "colab_type": "code",
        "colab": {}
      },
      "source": [
        "def draw(world,w,h):\n",
        "    \n",
        "  for y in range(h):\n",
        "  \n",
        "    for x in range(w):\n",
        "      # clear_output(wait=True)\n",
        "\n",
        "    \n",
        "      if world[x][y] == 1:\n",
        "        print(u\"\\u2588\", 2*\" \", end =\"\")\n",
        "      else:\n",
        "        print(\" \",2*\" \", end=\"\")\n",
        "\n",
        "    print(\"\\n\")\n",
        "  return"
      ],
      "execution_count": 0,
      "outputs": []
    },
    {
      "cell_type": "code",
      "metadata": {
        "id": "9lCtBt8Hxbta",
        "colab_type": "code",
        "colab": {}
      },
      "source": [
        "# draw(old_world, w,h)"
      ],
      "execution_count": 0,
      "outputs": []
    },
    {
      "cell_type": "code",
      "metadata": {
        "id": "a6itX4xKP8Hj",
        "colab_type": "code",
        "colab": {}
      },
      "source": [
        "def neighbour_count(world,i,j):\n",
        "  lives = 0\n",
        "  for y in [j-1,j,j+1]:\n",
        "    for x in [i-1,i,i+1]:\n",
        "      if(y==j and x==i):\n",
        "        continue\n",
        "\n",
        "      if(y != h and x != w):\n",
        "        lives +=world[x][y]\n",
        "\n",
        "      elif(x == w and y != h):\n",
        "        lives +=world[0][y]\n",
        "\n",
        "      elif(x != w and y == h):\n",
        "        lives +=world[x][0]\n",
        "\n",
        "      else:\n",
        "        lives += world[0][0]\n",
        "\n",
        "  return lives\n",
        "\n",
        "\n",
        "def evolution(world,w,h):\n",
        "\n",
        "  old_world = world.copy()\n",
        "  for j in range(h):\n",
        "    for i in range(w):\n",
        "      lives = neighbour_count(world,i,j)\n",
        "\n",
        "      # if(lives ==3 or (lives ==2 and world[y][x]==1)):\n",
        "      #   new_world[y][x] =1\n",
        "      # else:\n",
        "      #   new_world[y][x]=0\n",
        "      if(old_world[i][j] == 1 and lives < 2):\n",
        "        new_world[i][j] = 0 # Dead from starvation.\n",
        "      elif(old_world[i][j] == 1 and (lives == 2 or lives == 3)):\n",
        "        new_world[i][j] = 1 # Continue living.\n",
        "      elif(old_world[i][j] == 1 and lives > 3):\n",
        "        new_world[i][j] = 0 # Dead from overcrowding.\n",
        "      elif(old_world[i][j] == 0 and lives == 3):\n",
        "        new_world[i][j] = 1 # Alive from reproduction.\n",
        "\n",
        "  \n",
        "  return new_world"
      ],
      "execution_count": 0,
      "outputs": []
    },
    {
      "cell_type": "code",
      "metadata": {
        "id": "1dqWY6BgRG4p",
        "colab_type": "code",
        "outputId": "a92b3275-d0c8-423c-d8df-ab4b9439b6ca",
        "colab": {
          "base_uri": "https://localhost:8080/",
          "height": 741
        }
      },
      "source": [
        "while(True):\n",
        "  clear_output(wait=True)\n",
        "  # draw(old_world,w,h)\n",
        "  \n",
        "  evolution(new_world, w, h)\n",
        "  # print(new_world)\n",
        "  draw(new_world,w,h)\n",
        "  time.sleep(.5)\n",
        "\n",
        "  # if new_world = old_world\n"
      ],
      "execution_count": 0,
      "outputs": [
        {
          "output_type": "stream",
          "text": [
            "    █           █   █   █   █   █   █   █       █           \n",
            "\n",
            "█                           █       █           █   █   █   \n",
            "\n",
            "                █   █                   █   █       █       \n",
            "\n",
            "    █       █           █               █           █       \n",
            "\n",
            "█   █       █                                   █   █       \n",
            "\n",
            "                    █                                       \n",
            "\n",
            "█   █   █   █   █   █   █   █       █   █   █   █           \n",
            "\n",
            "█                                       █           █       \n",
            "\n",
            "█           █   █       █   █   █       █       █   █       \n",
            "\n",
            "█       █       █       █           █   █                   \n",
            "\n",
            "█       █           █       █   █               █   █       \n",
            "\n",
            "█       █   █   █           █           █   █       █       \n",
            "\n",
            "█       █                           █   █   █       █       \n",
            "\n",
            "            █   █   █   █   █   █           █       █       \n",
            "\n",
            "█   █       █                           █       █       █   \n",
            "\n"
          ],
          "name": "stdout"
        },
        {
          "output_type": "error",
          "ename": "KeyboardInterrupt",
          "evalue": "ignored",
          "traceback": [
            "\u001b[0;31m---------------------------------------------------------------------------\u001b[0m",
            "\u001b[0;31mKeyboardInterrupt\u001b[0m                         Traceback (most recent call last)",
            "\u001b[0;32m<ipython-input-16-7efa55692cff>\u001b[0m in \u001b[0;36m<module>\u001b[0;34m()\u001b[0m\n\u001b[1;32m      6\u001b[0m   \u001b[0;31m# print(new_world)\u001b[0m\u001b[0;34m\u001b[0m\u001b[0;34m\u001b[0m\u001b[0;34m\u001b[0m\u001b[0m\n\u001b[1;32m      7\u001b[0m   \u001b[0mdraw\u001b[0m\u001b[0;34m(\u001b[0m\u001b[0mnew_world\u001b[0m\u001b[0;34m,\u001b[0m\u001b[0mw\u001b[0m\u001b[0;34m,\u001b[0m\u001b[0mh\u001b[0m\u001b[0;34m)\u001b[0m\u001b[0;34m\u001b[0m\u001b[0;34m\u001b[0m\u001b[0m\n\u001b[0;32m----> 8\u001b[0;31m   \u001b[0mtime\u001b[0m\u001b[0;34m.\u001b[0m\u001b[0msleep\u001b[0m\u001b[0;34m(\u001b[0m\u001b[0;36m.5\u001b[0m\u001b[0;34m)\u001b[0m\u001b[0;34m\u001b[0m\u001b[0;34m\u001b[0m\u001b[0m\n\u001b[0m\u001b[1;32m      9\u001b[0m \u001b[0;34m\u001b[0m\u001b[0m\n\u001b[1;32m     10\u001b[0m   \u001b[0;31m# if new_world = old_world\u001b[0m\u001b[0;34m\u001b[0m\u001b[0;34m\u001b[0m\u001b[0;34m\u001b[0m\u001b[0m\n",
            "\u001b[0;31mKeyboardInterrupt\u001b[0m: "
          ]
        }
      ]
    },
    {
      "cell_type": "code",
      "metadata": {
        "id": "2bQe3j9Kjw8R",
        "colab_type": "code",
        "colab": {}
      },
      "source": [
        ""
      ],
      "execution_count": 0,
      "outputs": []
    }
  ]
}